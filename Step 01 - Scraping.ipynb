{
 "cells": [
  {
   "cell_type": "markdown",
   "id": "848ac6c8",
   "metadata": {},
   "source": [
    "# Step 1: Scraping MTA subway alerts \n",
    "### data source: *[MTA Alert Archive](https://mymtaalerts.com/archive)*"
   ]
  },
  {
   "cell_type": "code",
   "execution_count": 87,
   "id": "ab3bf767",
   "metadata": {},
   "outputs": [],
   "source": [
    "# Opening up the page using playwright\n",
    "from playwright.async_api import async_playwright"
   ]
  },
  {
   "cell_type": "code",
   "execution_count": 88,
   "id": "3ad2b3a5",
   "metadata": {},
   "outputs": [],
   "source": [
    "url = 'https://mymtaalerts.com/archive'"
   ]
  },
  {
   "cell_type": "code",
   "execution_count": 89,
   "id": "a61137a0",
   "metadata": {},
   "outputs": [],
   "source": [
    "playwright = await async_playwright().start()\n",
    "browser = await playwright.chromium.launch(headless = False)\n",
    "page = await browser.new_page()"
   ]
  },
  {
   "cell_type": "code",
   "execution_count": 90,
   "id": "26d3417a",
   "metadata": {},
   "outputs": [
    {
     "data": {
      "text/plain": [
       "<Response url='https://mymtaalerts.com/archive' request=<Request url='https://mymtaalerts.com/archive' method='GET'>>"
      ]
     },
     "execution_count": 90,
     "metadata": {},
     "output_type": "execute_result"
    }
   ],
   "source": [
    "# Go to NYCT subway's archive page\n",
    "await page.goto(url)"
   ]
  },
  {
   "cell_type": "markdown",
   "id": "e6160457",
   "metadata": {},
   "source": [
    "### Narrow down search to November "
   ]
  },
  {
   "cell_type": "code",
   "execution_count": 91,
   "id": "a9d5b684",
   "metadata": {},
   "outputs": [],
   "source": [
    "# click on \"hide elevator & escalator alerts\"\n",
    "await page.locator(\"#ctl00_ContentPlaceHolder1_chkHideElevatorEscalator\").click()"
   ]
  },
  {
   "cell_type": "code",
   "execution_count": 92,
   "id": "ca1917c5",
   "metadata": {},
   "outputs": [
    {
     "data": {
      "text/plain": [
       "['NYC']"
      ]
     },
     "execution_count": 92,
     "metadata": {},
     "output_type": "execute_result"
    }
   ],
   "source": [
    "# select alerts from NYCT Subway only\n",
    "await page.locator(\"#ctl00_ContentPlaceHolder1_ddlAgency\").select_option('NYC')"
   ]
  },
  {
   "cell_type": "code",
   "execution_count": 93,
   "id": "a0a29022",
   "metadata": {},
   "outputs": [],
   "source": [
    "# select date from 11.1 to 11.30\n",
    "await page.locator(\"#ctl00_ContentPlaceHolder1_dtpStartDate_dateInput\").fill('11/01/2022')\n",
    "await page.locator(\"#ctl00_ContentPlaceHolder1_dtpStopDate_dateInput\").fill('11/30/2022')"
   ]
  },
  {
   "cell_type": "code",
   "execution_count": 94,
   "id": "0ddd511d",
   "metadata": {},
   "outputs": [],
   "source": [
    "# Click on \"update\" button\n",
    "await page.locator(\"#ctl00_ContentPlaceHolder1_btnGetData\").click()"
   ]
  },
  {
   "cell_type": "markdown",
   "id": "808428d8",
   "metadata": {},
   "source": [
    "### Look at the table on the first page"
   ]
  },
  {
   "cell_type": "code",
   "execution_count": 95,
   "id": "690ed0cc",
   "metadata": {},
   "outputs": [],
   "source": [
    "import pandas as pd"
   ]
  },
  {
   "cell_type": "code",
   "execution_count": 1,
   "id": "4cb60208",
   "metadata": {
    "scrolled": true
   },
   "outputs": [
    {
     "ename": "NameError",
     "evalue": "name 'page' is not defined",
     "output_type": "error",
     "traceback": [
      "\u001b[0;31m---------------------------------------------------------------------------\u001b[0m",
      "\u001b[0;31mNameError\u001b[0m                                 Traceback (most recent call last)",
      "Cell \u001b[0;32mIn [1], line 1\u001b[0m\n\u001b[0;32m----> 1\u001b[0m html \u001b[38;5;241m=\u001b[39m \u001b[38;5;28;01mawait\u001b[39;00m \u001b[43mpage\u001b[49m\u001b[38;5;241m.\u001b[39mcontent()\n\u001b[1;32m      2\u001b[0m tables \u001b[38;5;241m=\u001b[39m pd\u001b[38;5;241m.\u001b[39mread_html(html)\n\u001b[1;32m      3\u001b[0m df_p1 \u001b[38;5;241m=\u001b[39m tables[\u001b[38;5;241m8\u001b[39m]\n",
      "\u001b[0;31mNameError\u001b[0m: name 'page' is not defined"
     ]
    }
   ],
   "source": [
    "html = await page.content()\n",
    "tables = pd.read_html(html)\n",
    "df_p1 = tables[8]\n",
    "df_p1\n",
    "\n",
    "pd.options.display.max_columns = None\n",
    "pd.options.display.max_colwidth = None\n",
    "\n",
    "df_p1.columns = ['date','agency','subject','message']\n",
    "df_p1"
   ]
  },
  {
   "cell_type": "code",
   "execution_count": 101,
   "id": "9de88520",
   "metadata": {
    "scrolled": true
   },
   "outputs": [
    {
     "data": {
      "text/plain": [
       "'61'"
      ]
     },
     "execution_count": 101,
     "metadata": {},
     "output_type": "execute_result"
    }
   ],
   "source": [
    "# await page.locator(\"xpath=/html/body/div[1]/div/div/div/form/div[7]/table/thead/tr[2]/td/div/div[3]/button[1]\").click()\n",
    "# 'button:text(\"Button Text Here\")'\n",
    "\n",
    "current_page = await page.query_selector(\".rgCurrentPage\")\n",
    "this_page = await current_page.text_content()\n"
   ]
  },
  {
   "cell_type": "code",
   "execution_count": 129,
   "id": "3d0c4988",
   "metadata": {},
   "outputs": [
    {
     "data": {
      "text/plain": [
       "'61'"
      ]
     },
     "execution_count": 129,
     "metadata": {},
     "output_type": "execute_result"
    }
   ],
   "source": [
    "page_info = await page.query_selector(\"xpath=/html/body/div[1]/div/div/div/form/div[7]/table/thead/tr[2]/td/div/div[5]/strong[2]\")\n",
    "await page_info.text_content()"
   ]
  },
  {
   "cell_type": "markdown",
   "id": "bd7b7c8a",
   "metadata": {},
   "source": [
    "### Start scraping!"
   ]
  },
  {
   "cell_type": "code",
   "execution_count": 96,
   "id": "aab67acf",
   "metadata": {},
   "outputs": [],
   "source": [
    "# await page.locator('.t-button rgActionButton rgPageNext').click()\n",
    "import time\n"
   ]
  },
  {
   "cell_type": "code",
   "execution_count": 146,
   "id": "79930d81",
   "metadata": {
    "scrolled": true
   },
   "outputs": [
    {
     "name": "stdout",
     "output_type": "stream",
     "text": [
      "scraped a page\n",
      "click the button\n",
      "scraped a page\n",
      "click the button\n",
      "scraped a page\n",
      "click the button\n",
      "scraped a page\n",
      "click the button\n",
      "scraped a page\n",
      "click the button\n",
      "scraped a page\n",
      "click the button\n",
      "scraped a page\n",
      "click the button\n",
      "scraped a page\n",
      "click the button\n",
      "scraped a page\n",
      "click the button\n",
      "scraped a page\n",
      "click the button\n",
      "scraped a page\n",
      "click the button\n",
      "scraped a page\n",
      "click the button\n",
      "scraped a page\n",
      "click the button\n",
      "scraped a page\n",
      "click the button\n",
      "scraped a page\n",
      "click the button\n",
      "scraped a page\n",
      "click the button\n",
      "scraped a page\n",
      "click the button\n",
      "scraped a page\n",
      "click the button\n",
      "scraped a page\n",
      "click the button\n",
      "scraped a page\n",
      "click the button\n",
      "scraped a page\n",
      "click the button\n",
      "scraped a page\n",
      "click the button\n",
      "scraped a page\n",
      "click the button\n",
      "scraped a page\n",
      "click the button\n",
      "scraped a page\n",
      "click the button\n",
      "scraped a page\n",
      "click the button\n",
      "scraped a page\n",
      "click the button\n",
      "scraped a page\n",
      "click the button\n",
      "scraped a page\n",
      "click the button\n",
      "scraped a page\n",
      "click the button\n",
      "scraped a page\n",
      "click the button\n",
      "scraped a page\n",
      "click the button\n",
      "scraped a page\n",
      "click the button\n",
      "scraped a page\n",
      "click the button\n",
      "scraped a page\n",
      "click the button\n",
      "scraped a page\n",
      "click the button\n",
      "scraped a page\n",
      "click the button\n",
      "scraped a page\n",
      "click the button\n",
      "scraped a page\n",
      "click the button\n",
      "scraped a page\n",
      "click the button\n",
      "scraped a page\n",
      "click the button\n",
      "scraped a page\n",
      "click the button\n",
      "scraped a page\n",
      "click the button\n",
      "scraped a page\n",
      "click the button\n",
      "scraped a page\n",
      "click the button\n",
      "scraped a page\n",
      "click the button\n",
      "scraped a page\n",
      "click the button\n",
      "scraped a page\n",
      "click the button\n",
      "scraped a page\n",
      "click the button\n",
      "scraped a page\n",
      "click the button\n",
      "scraped a page\n",
      "click the button\n",
      "scraped a page\n",
      "click the button\n",
      "scraped a page\n",
      "click the button\n",
      "scraped a page\n",
      "click the button\n",
      "scraped a page\n",
      "click the button\n",
      "scraped a page\n",
      "click the button\n",
      "scraped a page\n",
      "click the button\n",
      "scraped a page\n",
      "click the button\n",
      "scraped a page\n",
      "click the button\n",
      "scraped a page\n",
      "click the button\n",
      "scraped a page\n",
      "got to the last page\n"
     ]
    }
   ],
   "source": [
    "# scrape the number of pages and compare with, if 61 == 61, break\n",
    "dataframes = []\n",
    "while True:\n",
    "    time.sleep(3)\n",
    "    current_page = await page.query_selector(\"xpath=/html/body/div[1]/div/div/div/form/div[7]/table/thead/tr[2]/td/div/div[2]/a[11]\")\n",
    "    this_page = await current_page.text_content()\n",
    "\n",
    "    # Grabbing the number of current page and the number of last page\n",
    "    page_info = await page.query_selector(\"xpath=/html/body/div[1]/div/div/div/form/div[7]/table/thead/tr[2]/td/div/div[5]/strong[2]\")\n",
    "    last_page = await page_info.text_content()\n",
    "\n",
    "    # If the current number and the last page number does not match,\n",
    "    if this_page != last_page:\n",
    "        # scrape the current page\n",
    "        content = await page.content()\n",
    "        tables = pd.read_html(content)\n",
    "        # read in the alert table\n",
    "        print(\"scraped a page\")\n",
    "        df = tables[8]\n",
    "        # rename columns for consistency\n",
    "        df.columns = ['date','agency','subject','message']\n",
    "        dataframes.append(df)\n",
    "        # flip to the next page\n",
    "        await page.locator(\"xpath=/html/body/div[1]/div/div/div/form/div[7]/table/thead/tr[2]/td/div/div[3]/button[1]\").click()\n",
    "        print(\"click the button\")\n",
    "        \n",
    "    # If the current page number matches the number of last page \n",
    "    elif this_page == last_page:\n",
    "        # scraped the page, read in the table\n",
    "        content = await page.content()\n",
    "        tables = pd.read_html(content)\n",
    "        print(\"scraped a page\")\n",
    "        df = tables[8]\n",
    "        df.columns = ['date','agency','subject','message']\n",
    "        dataframes.append(df)\n",
    "        print(\"got to the last page\")\n",
    "        # Using break to escape the loop\n",
    "        break"
   ]
  },
  {
   "cell_type": "code",
   "execution_count": 147,
   "id": "c51c503c",
   "metadata": {},
   "outputs": [
    {
     "data": {
      "text/plain": [
       "(3147, 4)"
      ]
     },
     "execution_count": 147,
     "metadata": {},
     "output_type": "execute_result"
    }
   ],
   "source": [
    "# Compile all tables into a giant dataframe\n",
    "df = pd.concat(dataframes, ignore_index = True)\n",
    "df.shape"
   ]
  },
  {
   "cell_type": "code",
   "execution_count": 148,
   "id": "4d70c9fb",
   "metadata": {},
   "outputs": [
    {
     "data": {
      "text/html": [
       "<div>\n",
       "<style scoped>\n",
       "    .dataframe tbody tr th:only-of-type {\n",
       "        vertical-align: middle;\n",
       "    }\n",
       "\n",
       "    .dataframe tbody tr th {\n",
       "        vertical-align: top;\n",
       "    }\n",
       "\n",
       "    .dataframe thead th {\n",
       "        text-align: right;\n",
       "    }\n",
       "</style>\n",
       "<table border=\"1\" class=\"dataframe\">\n",
       "  <thead>\n",
       "    <tr style=\"text-align: right;\">\n",
       "      <th></th>\n",
       "      <th>date</th>\n",
       "      <th>agency</th>\n",
       "      <th>subject</th>\n",
       "      <th>message</th>\n",
       "    </tr>\n",
       "  </thead>\n",
       "  <tbody>\n",
       "    <tr>\n",
       "      <th>3142</th>\n",
       "      <td>11/1/22 12:38 AM</td>\n",
       "      <td>NYC</td>\n",
       "      <td>Update: BKLYN, F Train, Delays</td>\n",
       "      <td>Southbound F trains are running with delays after we addressed a signal problem near Church Av.</td>\n",
       "    </tr>\n",
       "    <tr>\n",
       "      <th>3143</th>\n",
       "      <td>11/1/22 12:19 AM</td>\n",
       "      <td>NYC</td>\n",
       "      <td>Update: BKLYN, D, N, and R Trains, Delays</td>\n",
       "      <td>Southbound D/N/R trains are running with delays after NYPD responded to a person being disruptive aboard a train at DeKalb Av.</td>\n",
       "    </tr>\n",
       "    <tr>\n",
       "      <th>3144</th>\n",
       "      <td>11/1/22 12:00 AM</td>\n",
       "      <td>NYC</td>\n",
       "      <td>BKLYN, D, N, and R Trains, Delays</td>\n",
       "      <td>Southbound D/N/R trains are delayed while we request NYPD assistance for a person being disruptive aboard a train at DeKalb Av.</td>\n",
       "    </tr>\n",
       "    <tr>\n",
       "      <th>3145</th>\n",
       "      <td>Menu</td>\n",
       "      <td>Menu</td>\n",
       "      <td>Menu</td>\n",
       "      <td>Menu</td>\n",
       "    </tr>\n",
       "    <tr>\n",
       "      <th>3146</th>\n",
       "      <td>...52535455565758596061  Page size:  select  3025 items in 61 pages</td>\n",
       "      <td>...52535455565758596061  Page size:  select  3025 items in 61 pages</td>\n",
       "      <td>...52535455565758596061  Page size:  select  3025 items in 61 pages</td>\n",
       "      <td>...52535455565758596061  Page size:  select  3025 items in 61 pages</td>\n",
       "    </tr>\n",
       "  </tbody>\n",
       "</table>\n",
       "</div>"
      ],
      "text/plain": [
       "                                                                     date  \\\n",
       "3142                                                     11/1/22 12:38 AM   \n",
       "3143                                                     11/1/22 12:19 AM   \n",
       "3144                                                     11/1/22 12:00 AM   \n",
       "3145                                                                 Menu   \n",
       "3146  ...52535455565758596061  Page size:  select  3025 items in 61 pages   \n",
       "\n",
       "                                                                   agency  \\\n",
       "3142                                                                  NYC   \n",
       "3143                                                                  NYC   \n",
       "3144                                                                  NYC   \n",
       "3145                                                                 Menu   \n",
       "3146  ...52535455565758596061  Page size:  select  3025 items in 61 pages   \n",
       "\n",
       "                                                                  subject  \\\n",
       "3142                                       Update: BKLYN, F Train, Delays   \n",
       "3143                            Update: BKLYN, D, N, and R Trains, Delays   \n",
       "3144                                    BKLYN, D, N, and R Trains, Delays   \n",
       "3145                                                                 Menu   \n",
       "3146  ...52535455565758596061  Page size:  select  3025 items in 61 pages   \n",
       "\n",
       "                                                                                                                              message  \n",
       "3142                                  Southbound F trains are running with delays after we addressed a signal problem near Church Av.  \n",
       "3143   Southbound D/N/R trains are running with delays after NYPD responded to a person being disruptive aboard a train at DeKalb Av.  \n",
       "3144  Southbound D/N/R trains are delayed while we request NYPD assistance for a person being disruptive aboard a train at DeKalb Av.  \n",
       "3145                                                                                                                             Menu  \n",
       "3146                                                              ...52535455565758596061  Page size:  select  3025 items in 61 pages  "
      ]
     },
     "execution_count": 148,
     "metadata": {},
     "output_type": "execute_result"
    }
   ],
   "source": [
    "df.head()"
   ]
  },
  {
   "cell_type": "markdown",
   "id": "2f87a2c1",
   "metadata": {},
   "source": [
    "### Save as .csv file"
   ]
  },
  {
   "cell_type": "code",
   "execution_count": 2,
   "id": "d7174718",
   "metadata": {},
   "outputs": [
    {
     "ename": "NameError",
     "evalue": "name 'df' is not defined",
     "output_type": "error",
     "traceback": [
      "\u001b[0;31m---------------------------------------------------------------------------\u001b[0m",
      "\u001b[0;31mNameError\u001b[0m                                 Traceback (most recent call last)",
      "Cell \u001b[0;32mIn [2], line 2\u001b[0m\n\u001b[1;32m      1\u001b[0m \u001b[38;5;66;03m# import dataframe as csv\u001b[39;00m\n\u001b[0;32m----> 2\u001b[0m \u001b[43mdf\u001b[49m\u001b[38;5;241m.\u001b[39mto_csv(\u001b[38;5;124m'\u001b[39m\u001b[38;5;124mnovember-delays.csv\u001b[39m\u001b[38;5;124m'\u001b[39m, index \u001b[38;5;241m=\u001b[39m \u001b[38;5;28;01mFalse\u001b[39;00m)\n",
      "\u001b[0;31mNameError\u001b[0m: name 'df' is not defined"
     ]
    }
   ],
   "source": [
    "# import dataframe as csv\n",
    "df.to_csv('november-delays.csv', index = False)"
   ]
  },
  {
   "cell_type": "markdown",
   "id": "7b269100",
   "metadata": {},
   "source": [
    "For cleaning process, please see notebook *```Step 02 - Cleaning```*."
   ]
  },
  {
   "cell_type": "code",
   "execution_count": null,
   "id": "ace506b4",
   "metadata": {},
   "outputs": [],
   "source": []
  }
 ],
 "metadata": {
  "kernelspec": {
   "display_name": "Python 3 (ipykernel)",
   "language": "python",
   "name": "python3"
  },
  "language_info": {
   "codemirror_mode": {
    "name": "ipython",
    "version": 3
   },
   "file_extension": ".py",
   "mimetype": "text/x-python",
   "name": "python",
   "nbconvert_exporter": "python",
   "pygments_lexer": "ipython3",
   "version": "3.11.0rc2"
  }
 },
 "nbformat": 4,
 "nbformat_minor": 5
}
