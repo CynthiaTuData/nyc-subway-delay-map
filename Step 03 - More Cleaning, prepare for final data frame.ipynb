{
 "cells": [
  {
   "cell_type": "markdown",
   "id": "f819ae12",
   "metadata": {},
   "source": [
    "# Step 3: Making editorial choices, prepare dataframe for merging with geojson file"
   ]
  },
  {
   "cell_type": "markdown",
   "id": "fa83f3d7",
   "metadata": {},
   "source": [
    "### Taking our slightly more-cleaned dataframe to do some analysis on it!"
   ]
  },
  {
   "cell_type": "code",
   "execution_count": 1,
   "id": "b8847bb8",
   "metadata": {},
   "outputs": [],
   "source": [
    "import re\n",
    "import pandas as pd"
   ]
  },
  {
   "cell_type": "code",
   "execution_count": 2,
   "id": "5e6ad997",
   "metadata": {
    "scrolled": true
   },
   "outputs": [
    {
     "data": {
      "text/html": [
       "<div>\n",
       "<style scoped>\n",
       "    .dataframe tbody tr th:only-of-type {\n",
       "        vertical-align: middle;\n",
       "    }\n",
       "\n",
       "    .dataframe tbody tr th {\n",
       "        vertical-align: top;\n",
       "    }\n",
       "\n",
       "    .dataframe thead th {\n",
       "        text-align: right;\n",
       "    }\n",
       "</style>\n",
       "<table border=\"1\" class=\"dataframe\">\n",
       "  <thead>\n",
       "    <tr style=\"text-align: right;\">\n",
       "      <th></th>\n",
       "      <th>date</th>\n",
       "      <th>subject</th>\n",
       "      <th>message</th>\n",
       "      <th>station</th>\n",
       "      <th>cause</th>\n",
       "    </tr>\n",
       "  </thead>\n",
       "  <tbody>\n",
       "    <tr>\n",
       "      <th>0</th>\n",
       "      <td>11/30/22 22:46</td>\n",
       "      <td>BX, 2 Train, Delays</td>\n",
       "      <td>Northbound 2 trains are delayed while we inves...</td>\n",
       "      <td>Allerton Av</td>\n",
       "      <td>brake</td>\n",
       "    </tr>\n",
       "    <tr>\n",
       "      <th>1</th>\n",
       "      <td>11/30/22 22:37</td>\n",
       "      <td>BKLYN, D and Q Trains, Delays</td>\n",
       "      <td>Northbound D/Q trains are delayed while we add...</td>\n",
       "      <td>DeKalb Av</td>\n",
       "      <td>mechanical problem</td>\n",
       "    </tr>\n",
       "    <tr>\n",
       "      <th>2</th>\n",
       "      <td>11/30/22 22:13</td>\n",
       "      <td>BX, 6 Train, Delays</td>\n",
       "      <td>Northbound 6 trains are running with delays af...</td>\n",
       "      <td>Buhre Av</td>\n",
       "      <td>switch</td>\n",
       "    </tr>\n",
       "    <tr>\n",
       "      <th>3</th>\n",
       "      <td>11/30/22 22:06</td>\n",
       "      <td>MANH, D Train, Delays</td>\n",
       "      <td>Northbound D trains are delayed while we inves...</td>\n",
       "      <td>Broadway-Lafayette St</td>\n",
       "      <td>brake</td>\n",
       "    </tr>\n",
       "    <tr>\n",
       "      <th>4</th>\n",
       "      <td>11/30/22 21:37</td>\n",
       "      <td>BKLYN, D and N Trains, Delays</td>\n",
       "      <td>Northbound D/N trains are delayed while we inv...</td>\n",
       "      <td>36 St</td>\n",
       "      <td>brake</td>\n",
       "    </tr>\n",
       "  </tbody>\n",
       "</table>\n",
       "</div>"
      ],
      "text/plain": [
       "             date                        subject  \\\n",
       "0  11/30/22 22:46            BX, 2 Train, Delays   \n",
       "1  11/30/22 22:37  BKLYN, D and Q Trains, Delays   \n",
       "2  11/30/22 22:13            BX, 6 Train, Delays   \n",
       "3  11/30/22 22:06          MANH, D Train, Delays   \n",
       "4  11/30/22 21:37  BKLYN, D and N Trains, Delays   \n",
       "\n",
       "                                             message                station  \\\n",
       "0  Northbound 2 trains are delayed while we inves...            Allerton Av   \n",
       "1  Northbound D/Q trains are delayed while we add...              DeKalb Av   \n",
       "2  Northbound 6 trains are running with delays af...               Buhre Av   \n",
       "3  Northbound D trains are delayed while we inves...  Broadway-Lafayette St   \n",
       "4  Northbound D/N trains are delayed while we inv...                  36 St   \n",
       "\n",
       "                cause  \n",
       "0               brake  \n",
       "1  mechanical problem  \n",
       "2              switch  \n",
       "3               brake  \n",
       "4               brake  "
      ]
     },
     "execution_count": 2,
     "metadata": {},
     "output_type": "execute_result"
    }
   ],
   "source": [
    "df = pd.read_csv(\"cleaned-delays.csv\")\n",
    "df.head()"
   ]
  },
  {
   "cell_type": "markdown",
   "id": "3d75ad6c",
   "metadata": {},
   "source": [
    "## Categorizing Cause of Delays\n",
    "\n",
    "Since regex could only do so much to extract the cause for delays, we need to further classify the causes of delays into bigger categories.\n",
    "\n",
    "The MTA does not have a public guidebook/code for categorizing cause of delays, so editorial decisions are made here to narrow all the cause for delays into 13 categories. *Note: The categories does not reflect how MTA categorize their delays.*\n",
    "\n",
    "### The categories are:\n",
    "- **Brake Malfunction**: delays caused by brake being activated.\n",
    "- **Track Maintenance**: delayed caused by track work, rails replacement, and removing low-hanging wires over tracks, cleaning off stuff on the tracks.\n",
    "- **Disruptive Passenger**: delays caused by disruptive passenger on trains/platforms, unauthorize person on the tracks, customer altercation, and people riding on the train.\n",
    "- **Mechanical Problem**: delays caused by \"mechnical problem\" and door malfunction. \n",
    "- **Medical Emergency**: delays caused by people needing medical help, EMS activity, person struck by train.\n",
    "- **Signal Malfunction**: delays caused by signal malfunction.\n",
    "- **Power Outage**: train power outages caused by power outages.\n",
    "- **Switch Malfunction**: delays caused by \"switch problem.\"\n",
    "- **Cleaning trains**: delays caused by the crew removing trains in need of cleaning, removing vandalizied cars.\n",
    "- **Police Activity**: delays caused by NYPD conducting investigations on the train/in the station.\n",
    "- **Fire or Flooding**: delays caused by FDNY, track on fire, smoke in trains, water on tracks.\n",
    "- **Other**: rare events such as removing dog on track, making way for garbage trains to run on tracks, communications issues. \n",
    "- **Unknown Cause**: delays with unspecified cause, including causes marked as \"na\" (done maunally), and message that says \"We're running as much service as we can.\"\n",
    "\n",
    "*See ```category_keys.csv``` for the full list of category and keywords (cause column) that fall into each category.*"
   ]
  },
  {
   "cell_type": "code",
   "execution_count": 3,
   "id": "48550747",
   "metadata": {},
   "outputs": [
    {
     "data": {
      "text/html": [
       "<div>\n",
       "<style scoped>\n",
       "    .dataframe tbody tr th:only-of-type {\n",
       "        vertical-align: middle;\n",
       "    }\n",
       "\n",
       "    .dataframe tbody tr th {\n",
       "        vertical-align: top;\n",
       "    }\n",
       "\n",
       "    .dataframe thead th {\n",
       "        text-align: right;\n",
       "    }\n",
       "</style>\n",
       "<table border=\"1\" class=\"dataframe\">\n",
       "  <thead>\n",
       "    <tr style=\"text-align: right;\">\n",
       "      <th></th>\n",
       "      <th>key</th>\n",
       "      <th>category_name</th>\n",
       "    </tr>\n",
       "  </thead>\n",
       "  <tbody>\n",
       "    <tr>\n",
       "      <th>0</th>\n",
       "      <td>brake</td>\n",
       "      <td>Brake Malfunction</td>\n",
       "    </tr>\n",
       "    <tr>\n",
       "      <th>1</th>\n",
       "      <td>disruptive</td>\n",
       "      <td>Disruptive Passenger</td>\n",
       "    </tr>\n",
       "    <tr>\n",
       "      <th>2</th>\n",
       "      <td>mechanical problem</td>\n",
       "      <td>Mechanical Problem</td>\n",
       "    </tr>\n",
       "    <tr>\n",
       "      <th>3</th>\n",
       "      <td>EMS</td>\n",
       "      <td>Medical Emergency</td>\n",
       "    </tr>\n",
       "    <tr>\n",
       "      <th>4</th>\n",
       "      <td>signal</td>\n",
       "      <td>Singal Malfunction</td>\n",
       "    </tr>\n",
       "  </tbody>\n",
       "</table>\n",
       "</div>"
      ],
      "text/plain": [
       "                  key         category_name\n",
       "0               brake     Brake Malfunction\n",
       "1          disruptive  Disruptive Passenger\n",
       "2  mechanical problem    Mechanical Problem\n",
       "3                 EMS     Medical Emergency\n",
       "4              signal    Singal Malfunction"
      ]
     },
     "execution_count": 3,
     "metadata": {},
     "output_type": "execute_result"
    }
   ],
   "source": [
    "# import category_key.csv\n",
    "key_df = pd.read_csv(\"category-keys.csv\")\n",
    "key_df['category_name'] = key_df.category_name.str.title().str.replace('Or', 'or')\n",
    "key_df.head()"
   ]
  },
  {
   "cell_type": "code",
   "execution_count": 4,
   "id": "48f6dc48",
   "metadata": {},
   "outputs": [
    {
     "data": {
      "text/html": [
       "<div>\n",
       "<style scoped>\n",
       "    .dataframe tbody tr th:only-of-type {\n",
       "        vertical-align: middle;\n",
       "    }\n",
       "\n",
       "    .dataframe tbody tr th {\n",
       "        vertical-align: top;\n",
       "    }\n",
       "\n",
       "    .dataframe thead th {\n",
       "        text-align: right;\n",
       "    }\n",
       "</style>\n",
       "<table border=\"1\" class=\"dataframe\">\n",
       "  <thead>\n",
       "    <tr style=\"text-align: right;\">\n",
       "      <th></th>\n",
       "      <th>date</th>\n",
       "      <th>subject</th>\n",
       "      <th>message</th>\n",
       "      <th>station</th>\n",
       "      <th>cause</th>\n",
       "      <th>key</th>\n",
       "      <th>category_name</th>\n",
       "    </tr>\n",
       "  </thead>\n",
       "  <tbody>\n",
       "    <tr>\n",
       "      <th>0</th>\n",
       "      <td>11/30/22 22:46</td>\n",
       "      <td>BX, 2 Train, Delays</td>\n",
       "      <td>Northbound 2 trains are delayed while we inves...</td>\n",
       "      <td>Allerton Av</td>\n",
       "      <td>brake</td>\n",
       "      <td>brake</td>\n",
       "      <td>Brake Malfunction</td>\n",
       "    </tr>\n",
       "    <tr>\n",
       "      <th>1</th>\n",
       "      <td>11/30/22 22:37</td>\n",
       "      <td>BKLYN, D and Q Trains, Delays</td>\n",
       "      <td>Northbound D/Q trains are delayed while we add...</td>\n",
       "      <td>DeKalb Av</td>\n",
       "      <td>mechanical problem</td>\n",
       "      <td>mechanical problem</td>\n",
       "      <td>Mechanical Problem</td>\n",
       "    </tr>\n",
       "    <tr>\n",
       "      <th>2</th>\n",
       "      <td>11/30/22 22:13</td>\n",
       "      <td>BX, 6 Train, Delays</td>\n",
       "      <td>Northbound 6 trains are running with delays af...</td>\n",
       "      <td>Buhre Av</td>\n",
       "      <td>switch</td>\n",
       "      <td>switch</td>\n",
       "      <td>Switch Malfunction</td>\n",
       "    </tr>\n",
       "    <tr>\n",
       "      <th>3</th>\n",
       "      <td>11/30/22 22:06</td>\n",
       "      <td>MANH, D Train, Delays</td>\n",
       "      <td>Northbound D trains are delayed while we inves...</td>\n",
       "      <td>Broadway-Lafayette St</td>\n",
       "      <td>brake</td>\n",
       "      <td>brake</td>\n",
       "      <td>Brake Malfunction</td>\n",
       "    </tr>\n",
       "    <tr>\n",
       "      <th>4</th>\n",
       "      <td>11/30/22 21:37</td>\n",
       "      <td>BKLYN, D and N Trains, Delays</td>\n",
       "      <td>Northbound D/N trains are delayed while we inv...</td>\n",
       "      <td>36 St</td>\n",
       "      <td>brake</td>\n",
       "      <td>brake</td>\n",
       "      <td>Brake Malfunction</td>\n",
       "    </tr>\n",
       "  </tbody>\n",
       "</table>\n",
       "</div>"
      ],
      "text/plain": [
       "             date                        subject  \\\n",
       "0  11/30/22 22:46            BX, 2 Train, Delays   \n",
       "1  11/30/22 22:37  BKLYN, D and Q Trains, Delays   \n",
       "2  11/30/22 22:13            BX, 6 Train, Delays   \n",
       "3  11/30/22 22:06          MANH, D Train, Delays   \n",
       "4  11/30/22 21:37  BKLYN, D and N Trains, Delays   \n",
       "\n",
       "                                             message                station  \\\n",
       "0  Northbound 2 trains are delayed while we inves...            Allerton Av   \n",
       "1  Northbound D/Q trains are delayed while we add...              DeKalb Av   \n",
       "2  Northbound 6 trains are running with delays af...               Buhre Av   \n",
       "3  Northbound D trains are delayed while we inves...  Broadway-Lafayette St   \n",
       "4  Northbound D/N trains are delayed while we inv...                  36 St   \n",
       "\n",
       "                cause                 key       category_name  \n",
       "0               brake               brake   Brake Malfunction  \n",
       "1  mechanical problem  mechanical problem  Mechanical Problem  \n",
       "2              switch              switch  Switch Malfunction  \n",
       "3               brake               brake   Brake Malfunction  \n",
       "4               brake               brake   Brake Malfunction  "
      ]
     },
     "execution_count": 4,
     "metadata": {},
     "output_type": "execute_result"
    }
   ],
   "source": [
    "# matching the categories based on the cause column, merge and make a new dataframe\n",
    "category_df = pd.merge(df, key_df, how = 'left', left_on = 'cause', right_on = 'key')\n",
    "category_df.head()"
   ]
  },
  {
   "cell_type": "markdown",
   "id": "c76176cb",
   "metadata": {},
   "source": [
    "## Expanding the line column and transform it for final dataframe\n",
    "\n",
    "**Below are the reasons why I chose to base my geolocation on line instead of station:**\n",
    "- A few subway stations bare the same name. *Example: There are three \"103 St\" in upper Manhattan.*\n",
    "- The MTA alerts did not specify the station in situations where stations share the same name. \n",
    "- Some stations that share the same name are not differentiated in the shape file provided by the MTA (retrieved from *[NYC Open Data](https://data.cityofnewyork.us/Transportation/Subway-Stations/arq3-7z49)*)\n",
    "- Some alerts did not specify where interruptions happened. Some interruptions also happened between stops, or happened in multiple stops and lines, making it difficult to pinpoint a single location that caused a delay.\n"
   ]
  },
  {
   "cell_type": "code",
   "execution_count": 5,
   "id": "fe6b09b5",
   "metadata": {},
   "outputs": [],
   "source": [
    "sub_list = category_df.subject.to_list()\n",
    "all_data = []\n",
    "pattern = r\"^((?:(?:MANH|BKLYN|SI|QNS|BX), )+)(.+) Trains*, (.*)$\"\n",
    "alt_pattern = r\"^(.+) Trains*, (.*)\"\n",
    "for row in sub_list:\n",
    "    data = {}\n",
    "    if re.match(pattern, row):\n",
    "        borough_str, lines_str, reason = re.findall(pattern, row)[0]\n",
    "        boroughs = [x.strip() for x in re.split(\", \", borough_str) if x.strip()!=\"\"]\n",
    "        lines = [x.strip() for x in re.split(\"and|,\", lines_str) if x.strip()!=\"\"]\n",
    "        data['borough'] = boroughs\n",
    "        data['line'] = lines\n",
    "        data['reason'] = reason\n",
    "        all_data.append(data)\n",
    "    else:\n",
    "        boroughs = []\n",
    "        lines_str, reason = re.findall(alt_pattern, row)[0]\n",
    "        lines = [x.strip() for x in re.split(\"and|,\", lines_str) if x.strip()!=\"\"]\n",
    "        data['borough'] = boroughs\n",
    "        data['line'] = lines\n",
    "        data['reason'] = reason\n",
    "        all_data.append(data)\n",
    "\n",
    "subject_df = pd.DataFrame(all_data)\n",
    "\n",
    "merged_df = pd.concat([category_df, subject_df], axis=1)"
   ]
  },
  {
   "cell_type": "code",
   "execution_count": 6,
   "id": "70af70e6",
   "metadata": {},
   "outputs": [
    {
     "data": {
      "text/html": [
       "<div>\n",
       "<style scoped>\n",
       "    .dataframe tbody tr th:only-of-type {\n",
       "        vertical-align: middle;\n",
       "    }\n",
       "\n",
       "    .dataframe tbody tr th {\n",
       "        vertical-align: top;\n",
       "    }\n",
       "\n",
       "    .dataframe thead th {\n",
       "        text-align: right;\n",
       "    }\n",
       "</style>\n",
       "<table border=\"1\" class=\"dataframe\">\n",
       "  <thead>\n",
       "    <tr style=\"text-align: right;\">\n",
       "      <th></th>\n",
       "      <th>date</th>\n",
       "      <th>subject</th>\n",
       "      <th>message</th>\n",
       "      <th>station</th>\n",
       "      <th>cause</th>\n",
       "      <th>key</th>\n",
       "      <th>category_name</th>\n",
       "      <th>borough</th>\n",
       "      <th>line</th>\n",
       "      <th>reason</th>\n",
       "    </tr>\n",
       "  </thead>\n",
       "  <tbody>\n",
       "    <tr>\n",
       "      <th>0</th>\n",
       "      <td>11/30/22 22:46</td>\n",
       "      <td>BX, 2 Train, Delays</td>\n",
       "      <td>Northbound 2 trains are delayed while we inves...</td>\n",
       "      <td>Allerton Av</td>\n",
       "      <td>brake</td>\n",
       "      <td>brake</td>\n",
       "      <td>Brake Malfunction</td>\n",
       "      <td>[BX]</td>\n",
       "      <td>[2]</td>\n",
       "      <td>Delays</td>\n",
       "    </tr>\n",
       "    <tr>\n",
       "      <th>1</th>\n",
       "      <td>11/30/22 22:37</td>\n",
       "      <td>BKLYN, D and Q Trains, Delays</td>\n",
       "      <td>Northbound D/Q trains are delayed while we add...</td>\n",
       "      <td>DeKalb Av</td>\n",
       "      <td>mechanical problem</td>\n",
       "      <td>mechanical problem</td>\n",
       "      <td>Mechanical Problem</td>\n",
       "      <td>[BKLYN]</td>\n",
       "      <td>[D, Q]</td>\n",
       "      <td>Delays</td>\n",
       "    </tr>\n",
       "  </tbody>\n",
       "</table>\n",
       "</div>"
      ],
      "text/plain": [
       "             date                        subject  \\\n",
       "0  11/30/22 22:46            BX, 2 Train, Delays   \n",
       "1  11/30/22 22:37  BKLYN, D and Q Trains, Delays   \n",
       "\n",
       "                                             message      station  \\\n",
       "0  Northbound 2 trains are delayed while we inves...  Allerton Av   \n",
       "1  Northbound D/Q trains are delayed while we add...    DeKalb Av   \n",
       "\n",
       "                cause                 key       category_name  borough  \\\n",
       "0               brake               brake   Brake Malfunction     [BX]   \n",
       "1  mechanical problem  mechanical problem  Mechanical Problem  [BKLYN]   \n",
       "\n",
       "     line  reason  \n",
       "0     [2]  Delays  \n",
       "1  [D, Q]  Delays  "
      ]
     },
     "execution_count": 6,
     "metadata": {},
     "output_type": "execute_result"
    }
   ],
   "source": [
    "merged_df.head(2)"
   ]
  },
  {
   "cell_type": "code",
   "execution_count": 7,
   "id": "f3a218d1",
   "metadata": {
    "scrolled": true
   },
   "outputs": [
    {
     "data": {
      "text/html": [
       "<div>\n",
       "<style scoped>\n",
       "    .dataframe tbody tr th:only-of-type {\n",
       "        vertical-align: middle;\n",
       "    }\n",
       "\n",
       "    .dataframe tbody tr th {\n",
       "        vertical-align: top;\n",
       "    }\n",
       "\n",
       "    .dataframe thead th {\n",
       "        text-align: right;\n",
       "    }\n",
       "</style>\n",
       "<table border=\"1\" class=\"dataframe\">\n",
       "  <thead>\n",
       "    <tr style=\"text-align: right;\">\n",
       "      <th></th>\n",
       "      <th>date</th>\n",
       "      <th>subject</th>\n",
       "      <th>message</th>\n",
       "      <th>station</th>\n",
       "      <th>cause</th>\n",
       "      <th>key</th>\n",
       "      <th>category_name</th>\n",
       "      <th>borough</th>\n",
       "      <th>line</th>\n",
       "      <th>reason</th>\n",
       "    </tr>\n",
       "  </thead>\n",
       "  <tbody>\n",
       "    <tr>\n",
       "      <th>0</th>\n",
       "      <td>11/30/22 22:46</td>\n",
       "      <td>BX, 2 Train, Delays</td>\n",
       "      <td>Northbound 2 trains are delayed while we inves...</td>\n",
       "      <td>Allerton Av</td>\n",
       "      <td>brake</td>\n",
       "      <td>brake</td>\n",
       "      <td>Brake Malfunction</td>\n",
       "      <td>[BX]</td>\n",
       "      <td>2</td>\n",
       "      <td>Delays</td>\n",
       "    </tr>\n",
       "    <tr>\n",
       "      <th>1</th>\n",
       "      <td>11/30/22 22:37</td>\n",
       "      <td>BKLYN, D and Q Trains, Delays</td>\n",
       "      <td>Northbound D/Q trains are delayed while we add...</td>\n",
       "      <td>DeKalb Av</td>\n",
       "      <td>mechanical problem</td>\n",
       "      <td>mechanical problem</td>\n",
       "      <td>Mechanical Problem</td>\n",
       "      <td>[BKLYN]</td>\n",
       "      <td>D</td>\n",
       "      <td>Delays</td>\n",
       "    </tr>\n",
       "    <tr>\n",
       "      <th>1</th>\n",
       "      <td>11/30/22 22:37</td>\n",
       "      <td>BKLYN, D and Q Trains, Delays</td>\n",
       "      <td>Northbound D/Q trains are delayed while we add...</td>\n",
       "      <td>DeKalb Av</td>\n",
       "      <td>mechanical problem</td>\n",
       "      <td>mechanical problem</td>\n",
       "      <td>Mechanical Problem</td>\n",
       "      <td>[BKLYN]</td>\n",
       "      <td>Q</td>\n",
       "      <td>Delays</td>\n",
       "    </tr>\n",
       "    <tr>\n",
       "      <th>2</th>\n",
       "      <td>11/30/22 22:13</td>\n",
       "      <td>BX, 6 Train, Delays</td>\n",
       "      <td>Northbound 6 trains are running with delays af...</td>\n",
       "      <td>Buhre Av</td>\n",
       "      <td>switch</td>\n",
       "      <td>switch</td>\n",
       "      <td>Switch Malfunction</td>\n",
       "      <td>[BX]</td>\n",
       "      <td>6</td>\n",
       "      <td>Delays</td>\n",
       "    </tr>\n",
       "    <tr>\n",
       "      <th>3</th>\n",
       "      <td>11/30/22 22:06</td>\n",
       "      <td>MANH, D Train, Delays</td>\n",
       "      <td>Northbound D trains are delayed while we inves...</td>\n",
       "      <td>Broadway-Lafayette St</td>\n",
       "      <td>brake</td>\n",
       "      <td>brake</td>\n",
       "      <td>Brake Malfunction</td>\n",
       "      <td>[MANH]</td>\n",
       "      <td>D</td>\n",
       "      <td>Delays</td>\n",
       "    </tr>\n",
       "  </tbody>\n",
       "</table>\n",
       "</div>"
      ],
      "text/plain": [
       "             date                        subject  \\\n",
       "0  11/30/22 22:46            BX, 2 Train, Delays   \n",
       "1  11/30/22 22:37  BKLYN, D and Q Trains, Delays   \n",
       "1  11/30/22 22:37  BKLYN, D and Q Trains, Delays   \n",
       "2  11/30/22 22:13            BX, 6 Train, Delays   \n",
       "3  11/30/22 22:06          MANH, D Train, Delays   \n",
       "\n",
       "                                             message                station  \\\n",
       "0  Northbound 2 trains are delayed while we inves...            Allerton Av   \n",
       "1  Northbound D/Q trains are delayed while we add...              DeKalb Av   \n",
       "1  Northbound D/Q trains are delayed while we add...              DeKalb Av   \n",
       "2  Northbound 6 trains are running with delays af...               Buhre Av   \n",
       "3  Northbound D trains are delayed while we inves...  Broadway-Lafayette St   \n",
       "\n",
       "                cause                 key       category_name  borough line  \\\n",
       "0               brake               brake   Brake Malfunction     [BX]    2   \n",
       "1  mechanical problem  mechanical problem  Mechanical Problem  [BKLYN]    D   \n",
       "1  mechanical problem  mechanical problem  Mechanical Problem  [BKLYN]    Q   \n",
       "2              switch              switch  Switch Malfunction     [BX]    6   \n",
       "3               brake               brake   Brake Malfunction   [MANH]    D   \n",
       "\n",
       "   reason  \n",
       "0  Delays  \n",
       "1  Delays  \n",
       "1  Delays  \n",
       "2  Delays  \n",
       "3  Delays  "
      ]
     },
     "execution_count": 7,
     "metadata": {},
     "output_type": "execute_result"
    }
   ],
   "source": [
    "# Make a long dataframe based on line column\n",
    "long_df = merged_df.explode('line')\n",
    "long_df.head()"
   ]
  },
  {
   "cell_type": "code",
   "execution_count": 10,
   "id": "db1d95b5",
   "metadata": {},
   "outputs": [
    {
     "data": {
      "text/plain": [
       "<AxesSubplot: >"
      ]
     },
     "execution_count": 10,
     "metadata": {},
     "output_type": "execute_result"
    },
    {
     "data": {
      "image/png": "[encoded data removed]",
      "text/plain": [
       "<Figure size 640x480 with 1 Axes>"
      ]
     },
     "metadata": {},
     "output_type": "display_data"
    }
   ],
   "source": [
    "long_df.line.value_counts(ascending=True).plot(kind='barh')"
   ]
  },
  {
   "cell_type": "code",
   "execution_count": 12,
   "id": "e61c824b",
   "metadata": {},
   "outputs": [
    {
     "data": {
      "text/plain": [
       "<AxesSubplot: >"
      ]
     },
     "execution_count": 12,
     "metadata": {},
     "output_type": "execute_result"
    },
    {
     "data": {
      "image/png": "[encoded data removed]",
      "text/plain": [
       "<Figure size 640x480 with 1 Axes>"
      ]
     },
     "metadata": {},
     "output_type": "display_data"
    }
   ],
   "source": [
    "long_df['category_name'].value_counts(ascending=True).plot(kind='barh')"
   ]
  },
  {
   "cell_type": "code",
   "execution_count": 9,
   "id": "be7c13e1",
   "metadata": {},
   "outputs": [],
   "source": [
    "long_df.to_csv(\"delays-by-category-line-cleaned.csv\", index = False)"
   ]
  },
  {
   "cell_type": "markdown",
   "id": "a51e5a2a",
   "metadata": {},
   "source": [
    "See notebook ```Step 04 - Processed for final Data frame``` for final data frame."
   ]
  },
  {
   "cell_type": "code",
   "execution_count": null,
   "id": "a5e0bd43",
   "metadata": {},
   "outputs": [],
   "source": []
  }
 ],
 "metadata": {
  "kernelspec": {
   "display_name": "Python 3 (ipykernel)",
   "language": "python",
   "name": "python3"
  },
  "language_info": {
   "codemirror_mode": {
    "name": "ipython",
    "version": 3
   },
   "file_extension": ".py",
   "mimetype": "text/x-python",
   "name": "python",
   "nbconvert_exporter": "python",
   "pygments_lexer": "ipython3",
   "version": "3.11.0rc2"
  }
 },
 "nbformat": 4,
 "nbformat_minor": 5
}
